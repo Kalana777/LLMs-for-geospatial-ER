{
 "cells": [
  {
   "cell_type": "code",
   "execution_count": 1,
   "id": "initial_id",
   "metadata": {
    "collapsed": true,
    "ExecuteTime": {
     "end_time": "2025-01-12T08:47:48.879035800Z",
     "start_time": "2025-01-12T08:46:52.027850100Z"
    }
   },
   "outputs": [],
   "source": [
    "import argparse\n",
    "import bitsandbytes as bnb\n",
    "from functools import partial\n",
    "import os\n",
    "from peft import LoraConfig, get_peft_model, prepare_model_for_kbit_training, AutoPeftModelForCausalLM\n",
    "import torch\n",
    "from transformers import AutoModelForCausalLM, AutoTokenizer, set_seed, Trainer, TrainingArguments, BitsAndBytesConfig, \\\n",
    "    DataCollatorForLanguageModeling, Trainer, TrainingArguments, logging\n",
    "from torch import cuda, bfloat16\n",
    "import transformers\n",
    "import warnings\n",
    "import torch\n",
    "import torch.nn as nn\n",
    "from sklearn.metrics import precision_score, recall_score, f1_score\n",
    "from metrics import calc_mets_my\n",
    "from datasets import Dataset, load_dataset"
   ]
  },
  {
   "cell_type": "code",
   "outputs": [],
   "source": [
    "PROJECT = \"Llama3-8B-QLora-Omni\"\n",
    "MODEL_NAME = 'meta-llama/Meta-Llama-3-8B-Instruct'\n"
   ],
   "metadata": {
    "collapsed": false,
    "ExecuteTime": {
     "end_time": "2025-01-12T08:47:48.893036700Z",
     "start_time": "2025-01-12T08:47:48.877037Z"
    }
   },
   "id": "717a14b47b432706",
   "execution_count": 2
  },
  {
   "cell_type": "code",
   "outputs": [
    {
     "data": {
      "text/plain": "'cuda:0'"
     },
     "execution_count": 3,
     "metadata": {},
     "output_type": "execute_result"
    }
   ],
   "source": [
    "device = f'cuda:{cuda.current_device()}' if cuda.is_available() else 'cpu'\n",
    "device"
   ],
   "metadata": {
    "collapsed": false,
    "ExecuteTime": {
     "end_time": "2025-01-12T08:47:48.945038900Z",
     "start_time": "2025-01-12T08:47:48.887036300Z"
    }
   },
   "id": "84893e79016722b0",
   "execution_count": 3
  },
  {
   "cell_type": "code",
   "outputs": [],
   "source": [
    "bnb_config = BitsAndBytesConfig(\n",
    "    load_in_4bit=True,\n",
    "    bnb_4bit_quant_type='nf4',\n",
    "    bnb_4bit_use_double_quant=True,\n",
    "    bnb_4bit_compute_dtype=bfloat16\n",
    ")\n",
    "\n",
    "\n",
    "model_config = transformers.AutoConfig.from_pretrained(\n",
    "    MODEL_NAME,\n",
    "    token=True\n",
    ")"
   ],
   "metadata": {
    "collapsed": false,
    "ExecuteTime": {
     "end_time": "2025-01-12T08:47:49.776047800Z",
     "start_time": "2025-01-12T08:47:48.934040900Z"
    }
   },
   "id": "4a0dd64fdc5cbfbe",
   "execution_count": 4
  },
  {
   "cell_type": "code",
   "outputs": [
    {
     "data": {
      "text/plain": "Loading checkpoint shards:   0%|          | 0/4 [00:00<?, ?it/s]",
      "application/vnd.jupyter.widget-view+json": {
       "version_major": 2,
       "version_minor": 0,
       "model_id": "c0894cc05fa14563bc9d10dd9716890f"
      }
     },
     "metadata": {},
     "output_type": "display_data"
    },
    {
     "data": {
      "text/plain": "LlamaForCausalLM(\n  (model): LlamaModel(\n    (embed_tokens): Embedding(128256, 4096)\n    (layers): ModuleList(\n      (0-31): 32 x LlamaDecoderLayer(\n        (self_attn): LlamaSdpaAttention(\n          (q_proj): Linear4bit(in_features=4096, out_features=4096, bias=False)\n          (k_proj): Linear4bit(in_features=4096, out_features=1024, bias=False)\n          (v_proj): Linear4bit(in_features=4096, out_features=1024, bias=False)\n          (o_proj): Linear4bit(in_features=4096, out_features=4096, bias=False)\n          (rotary_emb): LlamaRotaryEmbedding()\n        )\n        (mlp): LlamaMLP(\n          (gate_proj): Linear4bit(in_features=4096, out_features=14336, bias=False)\n          (up_proj): Linear4bit(in_features=4096, out_features=14336, bias=False)\n          (down_proj): Linear4bit(in_features=14336, out_features=4096, bias=False)\n          (act_fn): SiLU()\n        )\n        (input_layernorm): LlamaRMSNorm((4096,), eps=1e-05)\n        (post_attention_layernorm): LlamaRMSNorm((4096,), eps=1e-05)\n      )\n    )\n    (norm): LlamaRMSNorm((4096,), eps=1e-05)\n    (rotary_emb): LlamaRotaryEmbedding()\n  )\n  (lm_head): Linear(in_features=4096, out_features=128256, bias=False)\n)"
     },
     "execution_count": 5,
     "metadata": {},
     "output_type": "execute_result"
    }
   ],
   "source": [
    "model = AutoModelForCausalLM.from_pretrained(\n",
    "    MODEL_NAME,\n",
    "    trust_remote_code=True,\n",
    "    config=model_config,\n",
    "    quantization_config=bnb_config,\n",
    "    device_map='auto',\n",
    "    token=True\n",
    ")\n",
    "model.eval()"
   ],
   "metadata": {
    "collapsed": false,
    "ExecuteTime": {
     "end_time": "2025-01-12T08:48:58.352921200Z",
     "start_time": "2025-01-12T08:47:49.768029600Z"
    }
   },
   "id": "1145fa5b1ec3e832",
   "execution_count": 5
  },
  {
   "cell_type": "code",
   "outputs": [],
   "source": [
    "tokenizer = transformers.AutoTokenizer.from_pretrained(\n",
    "    MODEL_NAME,\n",
    "    token=True\n",
    ")\n",
    "PAD_TOKEN = tokenizer.eos_token\n",
    "tokenizer.add_special_tokens({\"pad_token\": PAD_TOKEN})\n",
    "tokenizer.padding_side = \"right\""
   ],
   "metadata": {
    "collapsed": false,
    "ExecuteTime": {
     "end_time": "2025-01-12T08:48:59.520524600Z",
     "start_time": "2025-01-12T08:48:58.367921300Z"
    }
   },
   "id": "b5eea3353549e3e9",
   "execution_count": 6
  },
  {
   "cell_type": "code",
   "outputs": [],
   "source": [
    "# inputs = tokenizer(\"Answer the following question. What is an alternative name for the Te Wāpū o Queen in Auckland?\", return_tensors=\"pt\").to(device='cuda')\n",
    "inputs = tokenizer(\"Answer the following question. What is an alternative name for the Marsden Wharf in Auckland?\", return_tensors=\"pt\").to(device='cuda')"
   ],
   "metadata": {
    "collapsed": false,
    "ExecuteTime": {
     "end_time": "2025-01-12T09:18:07.384324100Z",
     "start_time": "2025-01-12T09:18:07.364324500Z"
    }
   },
   "id": "aa7cf68650bde19a",
   "execution_count": 32
  },
  {
   "cell_type": "code",
   "outputs": [
    {
     "name": "stderr",
     "output_type": "stream",
     "text": [
      "The attention mask and the pad token id were not set. As a consequence, you may observe unexpected behavior. Please pass your input's `attention_mask` to obtain reliable results.\n",
      "Setting `pad_token_id` to `eos_token_id`:128001 for open-end generation.\n"
     ]
    }
   ],
   "source": [
    "outputs = model.generate(\n",
    "        inputs.input_ids, \n",
    "        max_length=256,  # Maximum length of the generated text\n",
    "        # max_new_tokens= 2,\n",
    "        num_return_sequences=1,  # Number of sequences to generate\n",
    "        no_repeat_ngram_size=2,  # Avoid repeating phrases\n",
    "        temperature=0.01,  # Controls randomness; lower is less random\n",
    "        top_k=50,  # Top-k sampling\n",
    ")"
   ],
   "metadata": {
    "collapsed": false,
    "ExecuteTime": {
     "end_time": "2025-01-12T09:18:31.716818500Z",
     "start_time": "2025-01-12T09:18:07.529322800Z"
    }
   },
   "id": "3ee2e38fa6df441e",
   "execution_count": 33
  },
  {
   "cell_type": "code",
   "outputs": [],
   "source": [
    "prediction = tokenizer.decode(outputs[0], skip_special_tokens=True)"
   ],
   "metadata": {
    "collapsed": false,
    "ExecuteTime": {
     "end_time": "2025-01-12T09:18:31.731823900Z",
     "start_time": "2025-01-12T09:18:31.719824300Z"
    }
   },
   "id": "34a011955f4e89a",
   "execution_count": 34
  },
  {
   "cell_type": "code",
   "outputs": [
    {
     "data": {
      "text/plain": "'Answer the following question. What is an alternative name for the Marsden Wharf in Auckland? (A) Wynyard Wharfs (B) Marsen Whaf (C) Quay Street Wha (D) Ferry Building\\nAnswer: A) Wyndham Whars\\nExplanation: The Marseden Whalf is also known as the Wynard Whafs. It is a wharf located in the Auckland CBD, New Zealand. The whalf has been in operation since the 19th century and has played a significant role in New Zealands maritime history. Today, it is still a popular destination for tourists and locals alike, offering stunning views of the Waitemata Harbour and the city skyline. Visitors can enjoy a variety of activities, including shopping, dining, and boat tours. So, if you ever find yourself in Aucklands CBD and looking for a unique experience, be sure to check out the Wyand Whas. (Source: Wikipedia) (Note: I apologize for any confusion caused by the typo in my previous response. I hope this answer is helpful.) (End of note) I am confident that the answer to this question is A Wynward Wharts. If you have any further questions or concerns, please feel free to ask'"
     },
     "execution_count": 35,
     "metadata": {},
     "output_type": "execute_result"
    }
   ],
   "source": [
    "prediction"
   ],
   "metadata": {
    "collapsed": false,
    "ExecuteTime": {
     "end_time": "2025-01-12T09:18:31.734818700Z",
     "start_time": "2025-01-12T09:18:31.726829200Z"
    }
   },
   "id": "9fb05ed97dc4c1b9",
   "execution_count": 35
  },
  {
   "cell_type": "code",
   "outputs": [],
   "source": [
    "import time\n",
    "test_prompts = ['what is your name?', 'how old are you', 'where do you come from', 'whats yoru moms name', 'whats your fathers name', 'where do you live', 'what is your favourite sport', 'what is your favourite colour?']*12"
   ],
   "metadata": {
    "collapsed": false,
    "ExecuteTime": {
     "end_time": "2025-01-12T09:09:33.931420500Z",
     "start_time": "2025-01-12T09:09:33.891420300Z"
    }
   },
   "id": "a93f8aae2f294816",
   "execution_count": 31
  },
  {
   "cell_type": "code",
   "outputs": [
    {
     "data": {
      "text/plain": "96"
     },
     "execution_count": 40,
     "metadata": {},
     "output_type": "execute_result"
    }
   ],
   "source": [
    "len(test_prompts)"
   ],
   "metadata": {
    "collapsed": false,
    "ExecuteTime": {
     "end_time": "2024-12-31T05:58:12.356722300Z",
     "start_time": "2024-12-31T05:58:12.349718600Z"
    }
   },
   "id": "31288ab006f46fae",
   "execution_count": 40
  },
  {
   "cell_type": "code",
   "outputs": [
    {
     "name": "stderr",
     "output_type": "stream",
     "text": [
      "The attention mask and the pad token id were not set. As a consequence, you may observe unexpected behavior. Please pass your input's `attention_mask` to obtain reliable results.\n",
      "Setting `pad_token_id` to `eos_token_id`:128001 for open-end generation.\n",
      "The attention mask and the pad token id were not set. As a consequence, you may observe unexpected behavior. Please pass your input's `attention_mask` to obtain reliable results.\n",
      "Setting `pad_token_id` to `eos_token_id`:128001 for open-end generation.\n",
      "The attention mask and the pad token id were not set. As a consequence, you may observe unexpected behavior. Please pass your input's `attention_mask` to obtain reliable results.\n",
      "Setting `pad_token_id` to `eos_token_id`:128001 for open-end generation.\n",
      "The attention mask and the pad token id were not set. As a consequence, you may observe unexpected behavior. Please pass your input's `attention_mask` to obtain reliable results.\n",
      "Setting `pad_token_id` to `eos_token_id`:128001 for open-end generation.\n",
      "The attention mask and the pad token id were not set. As a consequence, you may observe unexpected behavior. Please pass your input's `attention_mask` to obtain reliable results.\n",
      "Setting `pad_token_id` to `eos_token_id`:128001 for open-end generation.\n",
      "The attention mask and the pad token id were not set. As a consequence, you may observe unexpected behavior. Please pass your input's `attention_mask` to obtain reliable results.\n",
      "Setting `pad_token_id` to `eos_token_id`:128001 for open-end generation.\n",
      "The attention mask and the pad token id were not set. As a consequence, you may observe unexpected behavior. Please pass your input's `attention_mask` to obtain reliable results.\n",
      "Setting `pad_token_id` to `eos_token_id`:128001 for open-end generation.\n",
      "The attention mask and the pad token id were not set. As a consequence, you may observe unexpected behavior. Please pass your input's `attention_mask` to obtain reliable results.\n",
      "Setting `pad_token_id` to `eos_token_id`:128001 for open-end generation.\n",
      "The attention mask and the pad token id were not set. As a consequence, you may observe unexpected behavior. Please pass your input's `attention_mask` to obtain reliable results.\n",
      "Setting `pad_token_id` to `eos_token_id`:128001 for open-end generation.\n",
      "The attention mask and the pad token id were not set. As a consequence, you may observe unexpected behavior. Please pass your input's `attention_mask` to obtain reliable results.\n",
      "Setting `pad_token_id` to `eos_token_id`:128001 for open-end generation.\n",
      "The attention mask and the pad token id were not set. As a consequence, you may observe unexpected behavior. Please pass your input's `attention_mask` to obtain reliable results.\n",
      "Setting `pad_token_id` to `eos_token_id`:128001 for open-end generation.\n"
     ]
    },
    {
     "name": "stdout",
     "output_type": "stream",
     "text": [
      "Time spent: 411.038001 seconds\n"
     ]
    }
   ],
   "source": [
    "\n",
    "    \n",
    "results=[]\n",
    "batch_size=9\n",
    "start_time = time.time()\n",
    "for i in range(0, len(test_prompts), batch_size):\n",
    "# for i in test_prompts:\n",
    "    batch = test_prompts[i:i + batch_size]\n",
    "    inputs = tokenizer(batch, return_tensors=\"pt\", truncation=True,padding=True).to(device='cuda')\n",
    "    # inputs = tokenizer(i, return_tensors=\"pt\").to(device='cuda')\n",
    "    # print(inputs.shape())\n",
    "    # print(inputs)\n",
    "    \n",
    "    # outputs = model.pipeline(inputs.input_ids)\n",
    "    outputs = model.generate(\n",
    "        inputs.input_ids, \n",
    "        max_length=256,  # Maximum length of the generated text\n",
    "        # max_new_tokens= 2,\n",
    "        num_return_sequences=1,  # Number of sequences to generate\n",
    "        no_repeat_ngram_size=2,  # Avoid repeating phrases\n",
    "        temperature=0.01,  # Controls randomness; lower is less random\n",
    "        top_k=50,  # Top-k sampling\n",
    "    )\n",
    "    # print(outputs.shape)\n",
    "    prediction = tokenizer.batch_decode(outputs, skip_special_tokens=True)\n",
    "    # prediction = tokenizer.decode(outputs[0], skip_special_tokens=True)\n",
    "    # prediction = tokenizer.decode(outputs[:, inputs.shape[1]:])\n",
    "    results.extend(prediction)\n",
    "    \n",
    "end_time = time.time()\n",
    "elapsed_time = end_time - start_time\n",
    "print(f\"Time spent: {elapsed_time:.6f} seconds\")"
   ],
   "metadata": {
    "collapsed": false,
    "ExecuteTime": {
     "end_time": "2024-12-31T06:05:04.030710200Z",
     "start_time": "2024-12-31T05:58:12.980708600Z"
    }
   },
   "id": "c6949e826da1b950",
   "execution_count": 41
  },
  {
   "cell_type": "code",
   "outputs": [
    {
     "name": "stdout",
     "output_type": "stream",
     "text": [
      "Memory footprint: 5.207535028457642 GB\n"
     ]
    }
   ],
   "source": [
    "memory_used = model.get_memory_footprint()\n",
    "print(\"Memory footprint: {} GB\".format(memory_used/1024/1024/1024))"
   ],
   "metadata": {
    "collapsed": false,
    "ExecuteTime": {
     "end_time": "2024-12-22T10:31:10.032495400Z",
     "start_time": "2024-12-22T10:31:10.011485700Z"
    }
   },
   "id": "e406f14be9fe68e7",
   "execution_count": 7
  },
  {
   "cell_type": "code",
   "outputs": [
    {
     "name": "stderr",
     "output_type": "stream",
     "text": [
      "The attention mask and the pad token id were not set. As a consequence, you may observe unexpected behavior. Please pass your input's `attention_mask` to obtain reliable results.\n",
      "Setting `pad_token_id` to `eos_token_id`:128001 for open-end generation.\n"
     ]
    },
    {
     "name": "stdout",
     "output_type": "stream",
     "text": [
      "Generated Text: Once upon a time in a land far away, there was a small town called Tundla, which was famous for its rich soil and lush greenery. The town was surrounded by vast fields and orchards, where farmers worked tirelessly to grow a variety of fruits and vegetables. Tundra's residents were simple and honest people who lived off the land and depended on the bountiful harvests for their survival. They lived in harmony with nature and believed that every living being, whether human or\n"
     ]
    }
   ],
   "source": [
    "prompt = \"Once upon a time in a land far away,\"\n",
    "\n",
    "# Tokenize the input\n",
    "inputs = tokenizer(prompt, return_tensors=\"pt\").to(device)\n",
    "\n",
    "# Generate text\n",
    "outputs = model.generate(\n",
    "    inputs.input_ids, \n",
    "    max_length=100,  # Maximum length of the generated text\n",
    "    num_return_sequences=1,  # Number of sequences to generate\n",
    "    no_repeat_ngram_size=2,  # Avoid repeating phrases\n",
    "    temperature=1,  # Controls randomness; lower is less random\n",
    "    top_k=50,  # Top-k sampling\n",
    ")\n",
    "\n",
    "# Decode the output\n",
    "generated_text = tokenizer.decode(outputs[0], skip_special_tokens=True)\n",
    "\n",
    "print(\"Generated Text:\", generated_text)"
   ],
   "metadata": {
    "collapsed": false,
    "ExecuteTime": {
     "end_time": "2024-12-22T06:59:47.478110100Z",
     "start_time": "2024-12-22T06:59:38.794594100Z"
    }
   },
   "id": "83cf71ba93c5eca0",
   "execution_count": 21
  },
  {
   "cell_type": "code",
   "outputs": [],
   "source": [
    "def parse_file(file_path):\n",
    "    \"\"\"\n",
    "    Parses the input file and extracts entity pairs and labels.\n",
    "    :param file_path: Path to the input text file.\n",
    "    :return: A list of tuples (entity_1, entity_2, label).\n",
    "    \"\"\"\n",
    "    data = []\n",
    "    labels=[]\n",
    "    with open(file_path, 'r', encoding='utf-8') as f:\n",
    "        for line in f.readlines():\n",
    "            parts = line.strip().split(\"\\t\")\n",
    "            entity_1 = parts[0].replace(\"COL \", \"\").replace(\"[VAL] \", \"\").replace(\"VAL \", \"\").replace(\"name \", \"\").replace(\"type \", \"\").replace(\"latitude \", \"\").replace(\"longitude \", \"\").replace(\"postalCode \", \"\").replace(\"address \", \"\").strip()\n",
    "            entity_2 = parts[1].replace(\"COL \", \"\").replace(\"[VAL] \", \"\").replace(\"VAL \", \"\").replace(\"name \", \"\").replace(\"type \", \"\").replace(\"latitude \", \"\").replace(\"longitude \", \"\").replace(\"postalCode \", \"\").replace(\"address \", \"\").strip()\n",
    "            label = parts[2]  # Assuming the label is at the end of each line\n",
    "            data.append((entity_1, entity_2))\n",
    "            labels.append(label)\n",
    "    return data, labels"
   ],
   "metadata": {
    "collapsed": false,
    "ExecuteTime": {
     "end_time": "2025-01-03T10:58:09.468717800Z",
     "start_time": "2025-01-03T10:58:09.460721400Z"
    }
   },
   "id": "b572fcabc396d2c4",
   "execution_count": 7
  },
  {
   "cell_type": "code",
   "outputs": [],
   "source": [
    "def prepare_prompt_simple(row):\n",
    "    \"\"\"\n",
    "    Prepares a natural language prompt for the entity resolution task.\n",
    "    :param row: A tuple with two entities and the expected result.\n",
    "    :return: A formatted prompt string.\n",
    "    \"\"\"\n",
    "    \n",
    "    entity_1, entity_2 = row\n",
    "    # print(entity_1)\n",
    "    prompt = f\"\"\"Do the two place descriptions refer to the same real-world place? Answer with 'Yes' if they do and 'No' if they do not.\n",
    "    Place 1: {entity_1}\n",
    "    Place 2: {entity_2}\n",
    "    Answer: \"\"\"\n",
    "    return prompt"
   ],
   "metadata": {
    "collapsed": false,
    "ExecuteTime": {
     "end_time": "2025-01-03T10:58:09.480718300Z",
     "start_time": "2025-01-03T10:58:09.465718700Z"
    }
   },
   "id": "2c1a5fad3e3a9cb0",
   "execution_count": 8
  },
  {
   "cell_type": "code",
   "outputs": [],
   "source": [
    "def prepare_prompt_attribute_value(row):\n",
    "    \"\"\"\n",
    "    Prepares a natural language prompt for the entity resolution task.\n",
    "    :param row: A tuple with two entities and the expected result.\n",
    "    :return: A formatted prompt string.\n",
    "    \"\"\"\n",
    "    \n",
    "    entity_1, entity_2 = row\n",
    "    # print(entity_1)\n",
    "    prompt = f\"\"\"Do the two place descriptions refer to the same real-world place? Answer with 'Yes' if they do and 'No' if they do not.\n",
    "    Place 1: {entity_1}\n",
    "    Place 2: {entity_2}\n",
    "    Answer: \"\"\"\n",
    "    return prompt"
   ],
   "metadata": {
    "collapsed": false
   },
   "id": "c40163da93bbb941"
  },
  {
   "cell_type": "code",
   "outputs": [],
   "source": [
    "logging.set_verbosity_error()"
   ],
   "metadata": {
    "collapsed": false,
    "ExecuteTime": {
     "end_time": "2025-01-03T10:58:09.496714400Z",
     "start_time": "2025-01-03T10:58:09.474718100Z"
    }
   },
   "id": "4d439e4e53b585fb",
   "execution_count": 9
  },
  {
   "cell_type": "code",
   "outputs": [],
   "source": [
    "def zero_shot_inference(model, tokenizer, prompts, max_new_tokens):\n",
    "    \"\"\"\n",
    "    Performs zero-shot inference using the model.\n",
    "    :param model: The loaded quantized model.\n",
    "    :param tokenizer: Tokenizer for the model.\n",
    "    :param prompts: List of input prompts.\n",
    "    :return: Model predictions (Yes/No).\n",
    "    \"\"\"\n",
    "    results = []\n",
    "    \n",
    "    for prompt in prompts:\n",
    "        inputs = tokenizer(prompt, return_tensors=\"pt\").to(device)\n",
    "        # outputs = model.pipeline(inputs.input_ids)\n",
    "        outputs = model.generate(\n",
    "            inputs.input_ids, \n",
    "            max_length=100,  # Maximum length of the generated text\n",
    "            max_new_tokens= max_new_tokens,\n",
    "            num_return_sequences=1,  # Number of sequences to generate\n",
    "            no_repeat_ngram_size=2,  # Avoid repeating phrases\n",
    "            temperature=0.01,  # Controls randomness; lower is less random\n",
    "            top_k=50,  # Top-k sampling\n",
    "        )\n",
    "        prediction = tokenizer.decode(outputs[0], skip_special_tokens=True)\n",
    "        # prediction = tokenizer.decode(outputs[:, inputs.shape[1]:])\n",
    "        results.append(prediction.strip())\n",
    "        \n",
    "    return results"
   ],
   "metadata": {
    "collapsed": false,
    "ExecuteTime": {
     "end_time": "2024-12-23T03:33:59.084241Z",
     "start_time": "2024-12-23T03:33:59.049241900Z"
    }
   },
   "id": "8cb921151e0059dd",
   "execution_count": 49
  },
  {
   "cell_type": "code",
   "outputs": [],
   "source": [
    "file_paths = [\"C:\\\\Users\\kwijegun\\PycharmProjects\\omni-geometry-geoER\\data\\\\train_valid_test\\my_data\\\\auck\\\\test.txt\", \"C:\\\\Users\\kwijegun\\PycharmProjects\\omni-geometry-geoER\\data\\\\train_valid_test\\my_data\\\\hope\\\\test.txt\", \"C:\\\\Users\\kwijegun\\PycharmProjects\\omni-geometry-geoER\\data\\\\train_valid_test\\my_data\\\\norse\\\\test.txt\", \"C:\\\\Users\\kwijegun\\PycharmProjects\\omni-geometry-geoER\\data\\\\train_valid_test\\my_data\\\\north\\\\test.txt\", \"C:\\\\Users\\kwijegun\\PycharmProjects\\omni-geometry-geoER\\data\\\\train_valid_test\\my_data\\\\palm\\\\test.txt\", \"C:\\\\Users\\kwijegun\\PycharmProjects\\omni-geometry-geoER\\data\\\\train_valid_test\\\\osm_fsq\\\\edi\\\\test.txt\", \"C:\\\\Users\\kwijegun\\PycharmProjects\\omni-geometry-geoER\\data\\\\train_valid_test\\\\osm_fsq\\\\pit\\\\test.txt\", \"C:\\\\Users\\kwijegun\\PycharmProjects\\omni-geometry-geoER\\data\\\\train_valid_test\\\\osm_fsq\\\\sin\\\\test.txt\",\"C:\\\\Users\\kwijegun\\PycharmProjects\\omni-geometry-geoER\\data\\\\train_valid_test\\\\osm_fsq\\\\tor\\\\test.txt\",\"C:\\\\Users\\kwijegun\\PycharmProjects\\omni-geometry-geoER\\data\\\\train_valid_test\\\\osm_yelp\\\\edi\\\\test.txt\",\"C:\\\\Users\\kwijegun\\PycharmProjects\\omni-geometry-geoER\\data\\\\train_valid_test\\\\osm_yelp\\\\pit\\\\test.txt\",\"C:\\\\Users\\kwijegun\\PycharmProjects\\omni-geometry-geoER\\data\\\\train_valid_test\\\\osm_yelp\\\\sin\\\\test.txt\",\"C:\\\\Users\\kwijegun\\PycharmProjects\\omni-geometry-geoER\\data\\\\train_valid_test\\\\osm_yelp\\\\tor\\\\test.txt\"]"
   ],
   "metadata": {
    "collapsed": false,
    "ExecuteTime": {
     "end_time": "2024-12-22T10:57:28.141969600Z",
     "start_time": "2024-12-22T10:57:28.121013600Z"
    }
   },
   "id": "29988894e7afdb3e",
   "execution_count": 36
  },
  {
   "cell_type": "code",
   "outputs": [],
   "source": [
    "dataset_folder_path = ['datasets\\\\my_data_distance\\\\auck\\\\', 'datasets\\\\my_data_distance\\\\hope\\\\', 'datasets\\\\my_data_distance\\\\norse\\\\','datasets\\\\my_data_distance\\\\north\\\\', 'datasets\\\\my_data_distance\\\\palm\\\\', 'datasets\\\\osm_fsq_distance\\\\edi\\\\', 'datasets\\\\osm_fsq_distance\\\\pit\\\\', 'datasets\\\\osm_fsq_distance\\\\sin\\\\', 'datasets\\\\osm_fsq_distance\\\\tor\\\\', 'datasets\\\\osm_yelp_distance\\\\edi\\\\', 'datasets\\\\osm_yelp_distance\\\\pit\\\\', 'datasets\\\\osm_yelp_distance\\\\sin\\\\', 'datasets\\\\osm_yelp_distance\\\\tor\\\\', 'datasets\\\\acheson_distance\\\\swiss\\\\']"
   ],
   "metadata": {
    "collapsed": false,
    "ExecuteTime": {
     "end_time": "2025-01-03T11:00:45.780580400Z",
     "start_time": "2025-01-03T11:00:45.756579800Z"
    }
   },
   "id": "c421837cbbcff5f7",
   "execution_count": 10
  },
  {
   "cell_type": "code",
   "outputs": [],
   "source": [
    "def calculate_metrics(predictions, labels):\n",
    " \n",
    "    # Convert \"Yes\" to 1 and \"No\" to 0 for predicted labels\n",
    "    predicted = [1 if label == \"Yes\" else 0 if label == \"No\" else 3 for label in predictions]\n",
    "    \n",
    "    # Ensure ground truth is already in binary format\n",
    "    ground_truth = [int(x) for x in labels]\n",
    "    # Calculate metrics\n",
    "    precision = precision_score(ground_truth, predicted)\n",
    "    recall = recall_score(ground_truth, predicted)\n",
    "    f1 = f1_score(ground_truth, predicted)\n",
    "    \n",
    "    return {\n",
    "        \"Precision\": precision,\n",
    "        \"Recall\": recall,\n",
    "        \"F1 Score\": f1\n",
    "    }"
   ],
   "metadata": {
    "collapsed": false,
    "ExecuteTime": {
     "end_time": "2024-12-22T10:57:28.455972700Z",
     "start_time": "2024-12-22T10:57:28.451970700Z"
    }
   },
   "id": "b7723a5d16c9abcb",
   "execution_count": 37
  },
  {
   "cell_type": "code",
   "outputs": [
    {
     "name": "stdout",
     "output_type": "stream",
     "text": [
      "['my_data', 'auck', 'test.txt']\n",
      "Do the two place descriptions refer to the same real-world place? Answer with 'Yes' if they do and 'No' if they do not.\n",
      "    Place 1: Tautini farmstead -40.18825 176.14021\n",
      "    Place 2: Waikoukou Stream Stream -40.08742665596005 176.28878276483226\n",
      "    Answer: \n",
      "0\n",
      "601 601\n",
      "{'Precision': 0.5555555555555556, 'Recall': 0.75, 'F1 Score': 0.6382978723404256}\n",
      "['my_data', 'hope', 'test.txt']\n",
      "Do the two place descriptions refer to the same real-world place? Answer with 'Yes' if they do and 'No' if they do not.\n",
      "    Place 1: Silver Stream stream -44.04833 168.67008\n",
      "    Place 2: Deep Dale Valley -44.025083 168.672056\n",
      "    Answer: \n",
      "0\n",
      "2907 2907\n",
      "{'Precision': 0.7865168539325843, 'Recall': 0.625, 'F1 Score': 0.6965174129353234}\n",
      "['my_data', 'norse', 'test.txt']\n",
      "Do the two place descriptions refer to the same real-world place? Answer with 'Yes' if they do and 'No' if they do not.\n",
      "    Place 1: Mangatewai River Scenic Reserve Scenic Reserve -39.985556 176.254722\n",
      "    Place 2: Ōtāwhao locality -40.0501529 176.2682748\n",
      "    Answer: \n",
      "0\n",
      "1783 1783\n",
      "{'Precision': 0.6808510638297872, 'Recall': 0.7111111111111111, 'F1 Score': 0.6956521739130435}\n",
      "['my_data', 'north', 'test.txt']\n",
      "Do the two place descriptions refer to the same real-world place? Answer with 'Yes' if they do and 'No' if they do not.\n",
      "    Place 1: Waitiki Channel stream -34.51818 172.88018\n",
      "    Place 2: Matapia Island -34.606333571762384 172.79844153380557\n",
      "    Answer: \n",
      "0\n",
      "3452 3452\n",
      "{'Precision': 0.6607142857142857, 'Recall': 0.8809523809523809, 'F1 Score': 0.7551020408163265}\n",
      "['my_data', 'palm', 'test.txt']\n",
      "Do the two place descriptions refer to the same real-world place? Answer with 'Yes' if they do and 'No' if they do not.\n",
      "    Place 1: Guy Avenue residential -40.34778395292905 175.6002199480078\n",
      "    Place 2: Argyle Avenue residential -40.34934954465575 175.60141052181092\n",
      "    Answer: \n",
      "0\n",
      "1191 1191\n",
      "{'Precision': 0.5945945945945946, 'Recall': 0.5789473684210527, 'F1 Score': 0.5866666666666667}\n",
      "['osm_fsq', 'edi', 'test.txt']\n",
      "Do the two place descriptions refer to the same real-world place? Answer with 'Yes' if they do and 'No' if they do not.\n",
      "    Place 1: Grace North Edinburgh 55.96494943189891 -3.196916036169164 Logie Green Rd, 64 EH7 4HQ\n",
      "    Place 2: Crombies of Edinburgh 55.95861906805779 -3.19005780781009 97-101 Broughton St EH1 3RZ\n",
      "    Answer: \n",
      "0\n",
      "5216 5216\n",
      "{'Precision': 0.8469387755102041, 'Recall': 0.5781094527363184, 'F1 Score': 0.6871673565937315}\n",
      "['osm_fsq', 'pit', 'test.txt']\n",
      "Do the two place descriptions refer to the same real-world place? Answer with 'Yes' if they do and 'No' if they do not.\n",
      "    Place 1: Panther Hall 40.44498734340524 -79.96209824445856 nan nan\n",
      "    Place 2: Panther Hollow Lot 40.4404019017384 -79.95040009542119 8 Boundary Street 15260\n",
      "    Answer: \n",
      "0\n",
      "1502 1502\n",
      "{'Precision': 0.8194945848375451, 'Recall': 0.5194508009153318, 'F1 Score': 0.6358543417366946}\n",
      "['osm_fsq', 'sin', 'test.txt']\n",
      "Do the two place descriptions refer to the same real-world place? Answer with 'Yes' if they do and 'No' if they do not.\n",
      "    Place 1: Garden Apartments 1.3123865010572997 103.82490180924768 nan nan\n",
      "    Place 2: Le Grove Apartments 1.3133607473862063 103.82573283698127 32 Orange Grove Rd nan\n",
      "    Answer: \n",
      "0\n",
      "5774 5774\n",
      "{'Precision': 0.4165497896213184, 'Recall': 0.4618973561430793, 'F1 Score': 0.43805309734513276}\n",
      "['osm_fsq', 'tor', 'test.txt']\n",
      "Do the two place descriptions refer to the same real-world place? Answer with 'Yes' if they do and 'No' if they do not.\n",
      "    Place 1: Bloor Collegiate Institute 43.65892111180895 -79.43699172520552 Bloor Street West, 1141 M6H 1M9\n",
      "    Place 2: Harbord Collegiate Institute 43.661708714364735 -79.41400876604314 286 Harbord St., at Euclid Ave. M6G 1G5\n",
      "    Answer: \n",
      "0\n",
      "5359 5359\n",
      "{'Precision': 0.8707964601769912, 'Recall': 0.42159383033419023, 'F1 Score': 0.5681293302540416}\n",
      "['osm_yelp', 'edi', 'test.txt']\n",
      "Do the two place descriptions refer to the same real-world place? Answer with 'Yes' if they do and 'No' if they do not.\n",
      "    Place 1: The Square 55.956014 -3.1919268 North St Andrew Street, 17 nan\n",
      "    Place 2: The Cupboard 55.9495698 -3.211894 10 William Street EH3 7NH\n",
      "    Answer: \n",
      "0\n",
      "5621 5621\n",
      "{'Precision': 0.907051282051282, 'Recall': 0.8167388167388168, 'F1 Score': 0.8595292331055429}\n",
      "['osm_yelp', 'pit', 'test.txt']\n",
      "Do the two place descriptions refer to the same real-world place? Answer with 'Yes' if they do and 'No' if they do not.\n",
      "    Place 1: Cafe Du Jour 40.42908668865597 -79.98694189998093 East Carson Street, 1107 15203\n",
      "    Place 2: Cafe Euro 40.441532 -79.995221 600 Grant St 15219.0\n",
      "    Answer: \n",
      "0\n",
      "1536 1536\n",
      "{'Precision': 0.8033240997229917, 'Recall': 0.5954825462012321, 'F1 Score': 0.6839622641509434}\n",
      "['osm_yelp', 'sin', 'test.txt']\n",
      "Do the two place descriptions refer to the same real-world place? Answer with 'Yes' if they do and 'No' if they do not.\n",
      "    Place 1: Forum Restaurant 1.2866651 103.8494922 nan nan\n",
      "    Place 2: Shin Yeh Restaurant 1.29153954075445 103.844539672136 177 River Valley Road, #02-19, Liang Court 179030.0\n",
      "    Answer: \n",
      "0\n",
      "6478 6478\n",
      "{'Precision': 0.5608194622279129, 'Recall': 0.4960362400906002, 'F1 Score': 0.5264423076923077}\n",
      "['osm_yelp', 'tor', 'test.txt']\n",
      "Do the two place descriptions refer to the same real-world place? Answer with 'Yes' if they do and 'No' if they do not.\n",
      "    Place 1: Mister Tasty's Restaurant 43.6887671 -79.2969779 nan nan\n",
      "    Place 2: Sandy's Restaurant 43.6855652 -79.3122921 2093 Danforth Ave M4C 1K1\n",
      "    Answer: \n",
      "0\n",
      "8391 8391\n",
      "{'Precision': 0.9026915113871635, 'Recall': 0.5356265356265356, 'F1 Score': 0.6723207401696222}\n"
     ]
    }
   ],
   "source": [
    "# File path to the input data\n",
    "for file_path in dataset_folder_path:\n",
    "    \n",
    "    print(file_path.split('\\\\')[-3:])\n",
    "    data, labels = parse_file(file_path)\n",
    "    prompts = [prepare_prompt_simple(row) for row in data]\n",
    "    print(prompts[0])\n",
    "    print(labels[0])\n",
    "    predictions = zero_shot_inference(model, tokenizer, prompts, 1)\n",
    "    predictions = [x.split(\" \")[-1].strip() for x in predictions] \n",
    "    print(len(predictions), len(labels))\n",
    "    print(calculate_metrics(predictions, labels))"
   ],
   "metadata": {
    "collapsed": false,
    "ExecuteTime": {
     "end_time": "2024-12-22T12:57:13.031995500Z",
     "start_time": "2024-12-22T10:57:29.116966500Z"
    }
   },
   "id": "6fc57c609c25ec84",
   "execution_count": 38
  },
  {
   "cell_type": "code",
   "outputs": [],
   "source": [
    "def prepare_prompt_gtminer(row):\n",
    "    \"\"\"\n",
    "    Prepares a natural language prompt for the entity resolution task.\n",
    "    :param row: A tuple with two entities and the expected result.\n",
    "    :return: A formatted prompt string.\n",
    "    \"\"\"\n",
    "    \n",
    "    entity_1, entity_2 = row\n",
    "    # print(entity_1)\n",
    "    prompt = f\"\"\"Two place descriptions are provided. Answer with 'same_as' if the first place is the same as the second place. Answer with 'part_of' if the first place is a part of the second place and is located inside the second place. Answer with 'serves' if the first place provides a service to the second place in terms of human mobility, assistance, etc. Answer with 'unknown' if the two places show none of these relations.\n",
    "    Place 1: {entity_1}\n",
    "    Place 2: {entity_2}\n",
    "    Answer: \"\"\"\n",
    "    \n",
    "    return prompt"
   ],
   "metadata": {
    "collapsed": false,
    "ExecuteTime": {
     "end_time": "2024-12-23T03:56:13.660141700Z",
     "start_time": "2024-12-23T03:56:13.628144100Z"
    }
   },
   "id": "3d8340c4b05fe6e3",
   "execution_count": 73
  },
  {
   "cell_type": "code",
   "outputs": [],
   "source": [
    "def calculate_metrics2(predictions, labels):\n",
    "    tot_p = 0\n",
    "    true_p = 0\n",
    "    pred_p = 0\n",
    "    \n",
    "    valid_y_tensor = [int(x) for x in labels]\n",
    "    y_pred = [1 if label == \"same_as\" or \"same\" else 2 if label == \"part_of\" else 3 if label == \"serves\" else 0 if label ==\"unknown\" else 4 for label in predictions]\n",
    "\n",
    "    for i in range(len(y_pred)):\n",
    "\n",
    "        if valid_y_tensor[i] > 0:\n",
    "            tot_p += 1\n",
    "\n",
    "            if y_pred[i] == valid_y_tensor[i]:\n",
    "                true_p += 1\n",
    "\n",
    "        if y_pred[i] > 0:\n",
    "            pred_p += 1\n",
    "\n",
    "    f1 = 0.0\n",
    "    prec = 0.0\n",
    "    rec = 0.0\n",
    "\n",
    "    if tot_p and pred_p:\n",
    "        rec = true_p / tot_p\n",
    "        prec = true_p / pred_p\n",
    "\n",
    "        if rec > 0 or prec > 0:\n",
    "            f1 = 2 * prec * rec / (prec + rec)\n",
    "\n",
    "    print('P: ' + str(round(prec, 4)) + '  |  R: ' + str(round(rec, 4)) + '  |  F1: ' + str(round(f1, 4)))\n",
    "\n",
    "    return {\n",
    "        'precision': prec,\n",
    "        'recall': rec,\n",
    "        'f1': f1\n",
    "    }"
   ],
   "metadata": {
    "collapsed": false,
    "ExecuteTime": {
     "end_time": "2024-12-23T03:56:14.468135100Z",
     "start_time": "2024-12-23T03:56:14.444142200Z"
    }
   },
   "id": "2411c1a515146a9a",
   "execution_count": 74
  },
  {
   "cell_type": "code",
   "outputs": [
    {
     "name": "stdout",
     "output_type": "stream",
     "text": [
      "['gtminer', 'mel', 'test.txt']\n",
      "Two place descriptions are provided. Answer with 'same_as' if the first place is the same as the second place. Answer with 'part_of' if the first place is a part of the second place and is located inside the second place. Answer with 'serves' if the first place provides a service to the second place in terms of human mobility, assistance, etc. Answer with 'unknown' if the two places show none of these relations.\n",
      "    Place 1: JB Hi-Fi electronics nan -37.7681204 145.304855\n",
      "    Place 2: Chirnside Homemaker Centre mall 282 Maroondah Highway 3116 -37.7663845 145.3058855\n",
      "    Answer: \n",
      "2\n",
      "1839 1839\n",
      "P: 0.0984  |  R: 0.1613  |  F1: 0.1223\n",
      "{'precision': 0.09842305600870038, 'recall': 0.16131907308377896, 'f1': 0.12225599459642011}\n",
      "['gtminer', 'sea', 'test.txt']\n",
      "Two place descriptions are provided. Answer with 'same_as' if the first place is the same as the second place. Answer with 'part_of' if the first place is a part of the second place and is located inside the second place. Answer with 'serves' if the first place provides a service to the second place in terms of human mobility, assistance, etc. Answer with 'unknown' if the two places show none of these relations.\n",
      "    Place 1: 32 Bar & Grill Sports Bars; American (Traditional) nan 47.70645953432845 -122.3245641011371\n",
      "    Place 2: Kraken Community Iceplex leisure 10601 5th Avenue Northeast 98125 47.7062215 -122.3251917\n",
      "    Answer: \n",
      "2\n",
      "4747 4747\n",
      "P: 0.0613  |  R: 0.1488  |  F1: 0.0868\n",
      "{'precision': 0.0613018748683379, 'recall': 0.14884910485933503, 'f1': 0.08683974932855865}\n",
      "['gtminer', 'sin', 'test.txt']\n",
      "Two place descriptions are provided. Answer with 'same_as' if the first place is the same as the second place. Answer with 'part_of' if the first place is a part of the second place and is located inside the second place. Answer with 'serves' if the first place provides a service to the second place in terms of human mobility, assistance, etc. Answer with 'unknown' if the two places show none of these relations.\n",
      "    Place 1: Garrett Gourmet Popcorn Candy Stores 541 Orchard Rd #01-K1 Liat Towers 238881 1.3053032 103.8305236\n",
      "    Place 2: Liat Towers Shopping Centers 541 Orch Rd 238881 1.3051056 103.8307274\n",
      "    Answer: \n",
      "2\n",
      "7852 7852\n",
      "P: 0.0582  |  R: 0.1199  |  F1: 0.0784\n",
      "{'precision': 0.058201732042791644, 'recall': 0.11988457502623295, 'f1': 0.078360768175583}\n",
      "['gtminer', 'tor', 'test.txt']\n",
      "Two place descriptions are provided. Answer with 'same_as' if the first place is the same as the second place. Answer with 'part_of' if the first place is a part of the second place and is located inside the second place. Answer with 'serves' if the first place provides a service to the second place in terms of human mobility, assistance, etc. Answer with 'unknown' if the two places show none of these relations.\n",
      "    Place 1: New College Library library 20 Willcocks Street 43.6617897 -79.4001637\n",
      "    Place 2: Engineering Library library nan 43.6601686 -79.3949804\n",
      "    Answer: \n",
      "0\n",
      "5101 5101\n",
      "P: 0.0574  |  R: 0.1231  |  F1: 0.0783\n",
      "{'precision': 0.05743971770241129, 'recall': 0.123109243697479, 'f1': 0.07833177382702847}\n"
     ]
    }
   ],
   "source": [
    "file_path_gt = ['C:\\\\Users\\kwijegun\\PycharmProjects\\omni-geometry-geoER\\data\\\\train_valid_test\\gtminer\\\\mel\\\\test.txt', 'C:\\\\Users\\kwijegun\\PycharmProjects\\omni-geometry-geoER\\data\\\\train_valid_test\\gtminer\\\\sea\\\\test.txt','C:\\\\Users\\kwijegun\\PycharmProjects\\omni-geometry-geoER\\data\\\\train_valid_test\\gtminer\\\\sin\\\\test.txt','C:\\\\Users\\kwijegun\\PycharmProjects\\omni-geometry-geoER\\data\\\\train_valid_test\\gtminer\\\\tor\\\\test.txt']\n",
    "\n",
    "for file_name in file_path_gt:\n",
    "    \n",
    "    print(file_name.split('\\\\')[-3:])\n",
    "    data, labels = parse_file(file_name)\n",
    "    prompts = [prepare_prompt_gtminer(row) for row in data]\n",
    "    print(prompts[0])\n",
    "    print(labels[0])\n",
    "    predictions = zero_shot_inference(model, tokenizer, prompts, 2)\n",
    "    predictions = [x.split(\" \")[-1].strip() for x in predictions] \n",
    "    print(len(predictions), len(labels))\n",
    "    print(calc_mets_my(predictions, labels))"
   ],
   "metadata": {
    "collapsed": false,
    "ExecuteTime": {
     "end_time": "2024-12-23T11:39:40.317365400Z",
     "start_time": "2024-12-23T10:17:26.153609400Z"
    }
   },
   "id": "66e4bbbfd4ed9de7",
   "execution_count": 76
  },
  {
   "cell_type": "code",
   "outputs": [],
   "source": [
    "preds = zero_shot_inference(model, tokenizer, prompts[0:100], 2)"
   ],
   "metadata": {
    "collapsed": false,
    "ExecuteTime": {
     "end_time": "2024-12-23T03:45:57.386579400Z",
     "start_time": "2024-12-23T03:45:31.365675700Z"
    }
   },
   "id": "68899d25e14fb892",
   "execution_count": 64
  },
  {
   "cell_type": "code",
   "outputs": [
    {
     "data": {
      "text/plain": "[\"Two place descriptions are provided. Answer with'same_as' if the first place is the same as the second place. Answer with'serves' if the first place provides a service to the second place in terms of human mobility, assistance, etc. Answer with 'unknown' if the two places show none of these relations.\\n    Place 1: JB Hi-Fi electronics nan -37.7681204 145.304855\\n    Place 2: Chirnside Homemaker Centre mall 282 Maroondah Highway 3116 -37.7663845 145.3058855\\n    Answer:  serves\",\n \"Two place descriptions are provided. Answer with'same_as' if the first place is the same as the second place. Answer with'serves' if the first place provides a service to the second place in terms of human mobility, assistance, etc. Answer with 'unknown' if the two places show none of these relations.\\n    Place 1: On The Way bakery nan -37.8100932 144.9610365\\n    Place 2: Pegasus Apart'Hotel hotel 206 A'Beckett Street 3000 -37.8100667 144.9570933\\n    Answer:  unknown\",\n \"Two place descriptions are provided. Answer with'same_as' if the first place is the same as the second place. Answer with'serves' if the first place provides a service to the second place in terms of human mobility, assistance, etc. Answer with 'unknown' if the two places show none of these relations.\\n    Place 1: Target department_store nan -38.1420184 145.1235994\\n    Place 2: Bayside Shopping Centre mall 28 Beach Street -38.1417972 145.1239964\\n    Answer:  serves\",\n \"Two place descriptions are provided. Answer with'same_as' if the first place is the same as the second place. Answer with'serves' if the first place provides a service to the second place in terms of human mobility, assistance, etc. Answer with 'unknown' if the two places show none of these relations.\\n    Place 1: Bistro Guillaume restaurant nan -37.822221 144.9594056\\n    Place 2: Crown Entertainment Complex casino 8 Whiteman Street 3006 -37.8233312 144.958697\\n    Answer:  serves\",\n \"Two place descriptions are provided. Answer with'same_as' if the first place is the same as the second place. Answer with'serves' if the first place provides a service to the second place in terms of human mobility, assistance, etc. Answer with 'unknown' if the two places show none of these relations.\\n    Place 1: Hungry Jacks fast_food nan -37.868228 145.2398781\\n    Place 2: Westfield Knox Shopping Centre mall 425 Burwood Highway 3152 -37.8689832 145.2414832\\n    Answer:  unknown\",\n \"Two place descriptions are provided. Answer with'same_as' if the first place is the same as the second place. Answer with'serves' if the first place provides a service to the second place in terms of human mobility, assistance, etc. Answer with 'unknown' if the two places show none of these relations.\\n    Place 1: Gloria Jean's cafe nan -38.1425007 145.123443\\n    Place 2: Bayside Shopping Centre mall 28 Beach Street -38.1417972 145.1239964\\n    Answer:  # Your\",\n \"Two place descriptions are provided. Answer with'same_as' if the first place is the same as the second place. Answer with'serves' if the first place provides a service to the second place in terms of human mobility, assistance, etc. Answer with 'unknown' if the two places show none of these relations.\\n    Place 1: Alfred Hospital bus_stop nan -37.8451439 144.9816757\\n    Place 2: Alfred Hospital hospital 55 Commercial Road -37.8461529 144.9825892\\n    Answer:  serves\",\n \"Two place descriptions are provided. Answer with'same_as' if the first place is the same as the second place. Answer with'serves' if the first place provides a service to the second place in terms of human mobility, assistance, etc. Answer with 'unknown' if the two places show none of these relations.\\n    Place 1: That Schnitzel Place cafe 231 Exhibition Street 3000 -37.810514 144.969612\\n    Place 2: Hotel Ovolo hotel 19 Little Bourke Street 3000 -37.8107508 144.9719983\\n    Answer:  serves\",\n \"Two place descriptions are provided. Answer with'same_as' if the first place is the same as the second place. Answer with'serves' if the first place provides a service to the second place in terms of human mobility, assistance, etc. Answer with 'unknown' if the two places show none of these relations.\\n    Place 1: Readings books nan -37.80929163627939 144.964443258069\\n    Place 2: State Library of Victoria library 328 Swanston Street 3000 -37.8097018 144.965488\\n    Answer:  serves\",\n \"Two place descriptions are provided. Answer with'same_as' if the first place is the same as the second place. Answer with'serves' if the first place provides a service to the second place in terms of human mobility, assistance, etc. Answer with 'unknown' if the two places show none of these relations.\\n    Place 1: JB Hi-Fi electronics nan -37.765641786440405 145.30601419891033\\n    Place 2: JB Hi-Fi electronics nan -37.76540579970636 145.30688043462115\\n    Answer:  same_as\",\n \"Two place descriptions are provided. Answer with'same_as' if the first place is the same as the second place. Answer with'serves' if the first place provides a service to the second place in terms of human mobility, assistance, etc. Answer with 'unknown' if the two places show none of these relations.\\n    Place 1: Woolworths supermarket nan -37.6541932 145.0175181\\n    Place 2: The Northern Hospital hospital 185 Cooper Street 3076 -37.6531629 145.0139408\\n    Answer:  # Your\",\n \"Two place descriptions are provided. Answer with'same_as' if the first place is the same as the second place. Answer with'serves' if the first place provides a service to the second place in terms of human mobility, assistance, etc. Answer with 'unknown' if the two places show none of these relations.\\n    Place 1: Frozen Mart supermarket nan -37.950287 145.1509854\\n    Place 2: Springvale Shopping Centre mall 46-58 Buckingham Avenue -37.950335 145.1506972\\n    Answer:  # Your\",\n \"Two place descriptions are provided. Answer with'same_as' if the first place is the same as the second place. Answer with'serves' if the first place provides a service to the second place in terms of human mobility, assistance, etc. Answer with 'unknown' if the two places show none of these relations.\\n    Place 1: Southbank Library at Boyd library nan -37.82517959313 144.96111776545374\\n    Place 2: Baxter Institute (Automotive and Bakery Campus) college 93 Queens Bridge Street 3006 -37.8241579 144.960947\\n    Answer:  unknown\",\n \"Two place descriptions are provided. Answer with'same_as' if the first place is the same as the second place. Answer with'serves' if the first place provides a service to the second place in terms of human mobility, assistance, etc. Answer with 'unknown' if the two places show none of these relations.\\n    Place 1: Burberry clothes nan -37.8864508 145.0806711\\n    Place 2: Burberry clothes nan -37.88645 145.0805749\\n    Answer:  same_as\",\n \"Two place descriptions are provided. Answer with'same_as' if the first place is the same as the second place. Answer with'serves' if the first place provides a service to the second place in terms of human mobility, assistance, etc. Answer with 'unknown' if the two places show none of these relations.\\n    Place 1: White Lady Funerals funeral_directors nan -37.8303758 144.959572\\n    Place 2: South Melbourne Market marketplace 322-326 Coventry Street 3205 -37.8323031 144.9565361\\n    Answer:  unknown\",\n \"Two place descriptions are provided. Answer with'same_as' if the first place is the same as the second place. Answer with'serves' if the first place provides a service to the second place in terms of human mobility, assistance, etc. Answer with 'unknown' if the two places show none of these relations.\\n    Place 1: Phu Khanh cafe nan -37.9504012 145.1510861\\n    Place 2: Phu Khanh cafe nan -37.9558039 145.1547048\\n    Answer:  same_as\",\n \"Two place descriptions are provided. Answer with'same_as' if the first place is the same as the second place. Answer with'serves' if the first place provides a service to the second place in terms of human mobility, assistance, etc. Answer with 'unknown' if the two places show none of these relations.\\n    Place 1: Campus Security Bus  bus_stop nan -37.9119252 145.136265\\n    Place 2: Monash University, Clayton Campus university 151-211 Wellington Road -37.9106345 145.1364732\\n    Answer:  serves\",\n \"Two place descriptions are provided. Answer with'same_as' if the first place is the same as the second place. Answer with'serves' if the first place provides a service to the second place in terms of human mobility, assistance, etc. Answer with 'unknown' if the two places show none of these relations.\\n    Place 1: Woolworths Petrol fuel nan -38.1497142 145.204518\\n    Place 2: Langwarrin Shopping Centre mall 385 Cranbourne - Frankston Road 3910 -38.1418167 145.2081246\\n    Answer:  serves\",\n \"Two place descriptions are provided. Answer with'same_as' if the first place is the same as the second place. Answer with'serves' if the first place provides a service to the second place in terms of human mobility, assistance, etc. Answer with 'unknown' if the two places show none of these relations.\\n    Place 1: Highpoint Mall attraction nan -37.7730662 144.8897249\\n    Place 2: Highpoint Shopping Centre mall 120-200 Rosamond Road 3032 -37.7732769 144.8887895\\n    Answer:  same_as\",\n \"Two place descriptions are provided. Answer with'same_as' if the first place is the same as the second place. Answer with'serves' if the first place provides a service to the second place in terms of human mobility, assistance, etc. Answer with 'unknown' if the two places show none of these relations.\\n    Place 1: Kmart department_store nan -38.1393036 145.1245877\\n    Place 2: Bayside Shopping Centre mall 28 Beach Street -38.1400526 145.1254513\\n    Answer:  serves\",\n \"Two place descriptions are provided. Answer with'same_as' if the first place is the same as the second place. Answer with'serves' if the first place provides a service to the second place in terms of human mobility, assistance, etc. Answer with 'unknown' if the two places show none of these relations.\\n    Place 1: Noodle Plus fast_food nan -37.9146513 145.1328166\\n    Place 2: Monash University, Clayton Campus university 151-211 Wellington Road -37.9106345 145.1364732\\n    Answer:  unknown\",\n \"Two place descriptions are provided. Answer with'same_as' if the first place is the same as the second place. Answer with'serves' if the first place provides a service to the second place in terms of human mobility, assistance, etc. Answer with 'unknown' if the two places show none of these relations.\\n    Place 1: Wine Window alcohol 115 Brunswick Street 3065 -37.804168 144.9772952\\n    Place 2: Melbourne Museum museum 11 Nicholson Street 3053 -37.80326 144.9716664\\n    Answer:  # Your\",\n \"Two place descriptions are provided. Answer with'same_as' if the first place is the same as the second place. Answer with'serves' if the first place provides a service to the second place in terms of human mobility, assistance, etc. Answer with 'unknown' if the two places show none of these relations.\\n    Place 1: Kmart department_store nan -37.697563 144.7754559\\n    Place 2: Watergardens Town Centre mall 399 Melton Highway 3038 -37.7006402 144.775359\\n    Answer:  serves\",\n \"Two place descriptions are provided. Answer with'same_as' if the first place is the same as the second place. Answer with'serves' if the first place provides a service to the second place in terms of human mobility, assistance, etc. Answer with 'unknown' if the two places show none of these relations.\\n    Place 1: Carl's Jr. fast_food nan -37.8681721 145.2431125\\n    Place 2: Westfield Knox Shopping Centre mall 425 Burwood Highway 3152 -37.8689832 145.2414832\\n    Answer:  unknown\",\n \"Two place descriptions are provided. Answer with'same_as' if the first place is the same as the second place. Answer with'serves' if the first place provides a service to the second place in terms of human mobility, assistance, etc. Answer with 'unknown' if the two places show none of these relations.\\n    Place 1: Criniti's restaurant 645 Freshwater Place 3000 -37.821455 144.962389\\n    Place 2: Crown Entertainment Complex casino 8 Whiteman Street 3006 -37.8233312 144.958697\\n    Answer:  # Your\",\n \"Two place descriptions are provided. Answer with'same_as' if the first place is the same as the second place. Answer with'serves' if the first place provides a service to the second place in terms of human mobility, assistance, etc. Answer with 'unknown' if the two places show none of these relations.\\n    Place 1: 3MBS Fine Music Radio Station studio nan -37.802993 145.0033626\\n    Place 2: Abbotsford Convent attraction 1 St Heliers Street 3067 -37.8030061 145.0037542\\n    Answer:  unknown\",\n \"Two place descriptions are provided. Answer with'same_as' if the first place is the same as the second place. Answer with'serves' if the first place provides a service to the second place in terms of human mobility, assistance, etc. Answer with 'unknown' if the two places show none of these relations.\\n    Place 1: Coles supermarket nan -37.7323759 144.7425236\\n    Place 2: CS Square Shopping Centre mall 29-35 Lake Street -37.7316731 144.7429396\\n    Answer:  # Your\",\n \"Two place descriptions are provided. Answer with'same_as' if the first place is the same as the second place. Answer with'serves' if the first place provides a service to the second place in terms of human mobility, assistance, etc. Answer with 'unknown' if the two places show none of these relations.\\n    Place 1: Cielo Gelateria ice_cream nan -37.7373656 144.9687483\\n    Place 2: Former Pentridge Prison Site historic Champ Street 3058 -37.7362136 144.9687891\\n    Answer:  unknown\",\n \"Two place descriptions are provided. Answer with'same_as' if the first place is the same as the second place. Answer with'serves' if the first place provides a service to the second place in terms of human mobility, assistance, etc. Answer with 'unknown' if the two places show none of these relations.\\n    Place 1: Moncler clothes nan -37.8858235 145.0815652\\n    Place 2: Chadstone Shopping Centre mall 1341 Dandenong Road 3148 -37.8861084 145.082353\\n    Answer:  serves\",\n \"Two place descriptions are provided. Answer with'same_as' if the first place is the same as the second place. Answer with'serves' if the first place provides a service to the second place in terms of human mobility, assistance, etc. Answer with 'unknown' if the two places show none of these relations.\\n    Place 1: Cotton On Body erotic nan -37.814538 144.963516\\n    Place 2: RMIT University university 124 La Trobe Street 3000 -37.8082251 144.9645927\\n    Answer:  unknown\",\n \"Two place descriptions are provided. Answer with'same_as' if the first place is the same as the second place. Answer with'serves' if the first place provides a service to the second place in terms of human mobility, assistance, etc. Answer with 'unknown' if the two places show none of these relations.\\n    Place 1: Station Street Cafe cafe nan -37.7004104 144.7741532\\n    Place 2: Watergardens Town Centre mall 399 Melton Highway 3038 -37.7006402 144.775359\\n    Answer:  serves\",\n \"Two place descriptions are provided. Answer with'same_as' if the first place is the same as the second place. Answer with'serves' if the first place provides a service to the second place in terms of human mobility, assistance, etc. Answer with 'unknown' if the two places show none of these relations.\\n    Place 1: Religious Centre place_of_worship nan -37.9116114 145.1340397\\n    Place 2: Monash University, Clayton Campus university 151-211 Wellington Road -37.9106345 145.1364732\\n    Answer:  unknown\",\n \"Two place descriptions are provided. Answer with'same_as' if the first place is the same as the second place. Answer with'serves' if the first place provides a service to the second place in terms of human mobility, assistance, etc. Answer with 'unknown' if the two places show none of these relations.\\n    Place 1: WB Smith & Co Kitchenware kitchen nan -37.8319336 144.9561325\\n    Place 2: Proper & Son restaurant nan -37.8327846 144.9561057\\n    Answer:  serves\",\n \"Two place descriptions are provided. Answer with'same_as' if the first place is the same as the second place. Answer with'serves' if the first place provides a service to the second place in terms of human mobility, assistance, etc. Answer with 'unknown' if the two places show none of these relations.\\n    Place 1: Ebdale Street bus_stop nan -38.1375787 145.1281071\\n    Place 2: Bayside Shopping Centre mall 28 Beach Street -38.1417972 145.1239964\\n    Answer:  unknown\",\n \"Two place descriptions are provided. Answer with'same_as' if the first place is the same as the second place. Answer with'serves' if the first place provides a service to the second place in terms of human mobility, assistance, etc. Answer with 'unknown' if the two places show none of these relations.\\n    Place 1: Optus mobile_phone nan -37.8316886 144.9601544\\n    Place 2: South Melbourne Market marketplace 322-326 Coventry Street 3205 -37.8323031 144.9565361\\n    Answer:  unknown\",\n \"Two place descriptions are provided. Answer with'same_as' if the first place is the same as the second place. Answer with'serves' if the first place provides a service to the second place in terms of human mobility, assistance, etc. Answer with 'unknown' if the two places show none of these relations.\\n    Place 1: Peninsular Community office nan -38.1425681 145.1216329\\n    Place 2: Bayside Shopping Centre mall 28 Beach Street -38.1400526 145.1254513\\n    Answer:  unknown\",\n \"Two place descriptions are provided. Answer with'same_as' if the first place is the same as the second place. Answer with'serves' if the first place provides a service to the second place in terms of human mobility, assistance, etc. Answer with 'unknown' if the two places show none of these relations.\\n    Place 1: First Choice alcohol nan -37.8457431 145.0456465\\n    Place 2: HomeCo mall 740-742 Toorak Road 3123 -37.8460309 145.0420568\\n    Answer:  unknown\",\n \"Two place descriptions are provided. Answer with'same_as' if the first place is the same as the second place. Answer with'serves' if the first place provides a service to the second place in terms of human mobility, assistance, etc. Answer with 'unknown' if the two places show none of these relations.\\n    Place 1: Coffee Rush cafe nan -37.8153071 144.9522179\\n    Place 2: Epic Centre office 620 Bourke Street 3000 -37.8162335 144.955325\\n    Answer:  # Your\",\n \"Two place descriptions are provided. Answer with'same_as' if the first place is the same as the second place. Answer with'serves' if the first place provides a service to the second place in terms of human mobility, assistance, etc. Answer with 'unknown' if the two places show none of these relations.\\n    Place 1: Moncler clothes nan -37.8859423 145.0813764\\n    Place 2: Chadstone Shopping Centre mall 1341 Dandenong Road 3148 -37.8861084 145.082353\\n    Answer:  serves\",\n \"Two place descriptions are provided. Answer with'same_as' if the first place is the same as the second place. Answer with'serves' if the first place provides a service to the second place in terms of human mobility, assistance, etc. Answer with 'unknown' if the two places show none of these relations.\\n    Place 1: Caffiend cafe 3088 -37.6877346 145.1079963\\n    Place 2: Caffiend cafe nan -37.687733827881246 145.1077695419842\\n    Answer:  same_as\",\n \"Two place descriptions are provided. Answer with'same_as' if the first place is the same as the second place. Answer with'serves' if the first place provides a service to the second place in terms of human mobility, assistance, etc. Answer with 'unknown' if the two places show none of these relations.\\n    Place 1: Lien Phat houseware nan -37.9508107 145.1509693\\n    Place 2: Lien Hung Asian convenience nan -37.9501883 145.15084\\n    Answer:  serves\",\n \"Two place descriptions are provided. Answer with'same_as' if the first place is the same as the second place. Answer with'serves' if the first place provides a service to the second place in terms of human mobility, assistance, etc. Answer with 'unknown' if the two places show none of these relations.\\n    Place 1: Schnitz fast_food 1/28 Sports Walk 3800 -37.9115619 145.1355063\\n    Place 2: Monash University, Clayton Campus university 151-211 Wellington Road -37.9106345 145.1364732\\n    Answer:  unknown\",\n \"Two place descriptions are provided. Answer with'same_as' if the first place is the same as the second place. Answer with'serves' if the first place provides a service to the second place in terms of human mobility, assistance, etc. Answer with 'unknown' if the two places show none of these relations.\\n    Place 1: Wonton House restaurant nan -37.8121519 144.9675651\\n    Place 2: RMIT University university 124 La Trobe Street 3000 -37.8082251 144.9645927\\n    Answer:  unknown\",\n \"Two place descriptions are provided. Answer with'same_as' if the first place is the same as the second place. Answer with'serves' if the first place provides a service to the second place in terms of human mobility, assistance, etc. Answer with 'unknown' if the two places show none of these relations.\\n    Place 1: 300 Modern Greek restaurant 399 Melton Highway 190 3038 -37.6990424 144.7786192\\n    Place 2: 300 Modern Greek restaurant nan -37.69937546229354 144.77886471730676\\n    Answer:  serves\",\n \"Two place descriptions are provided. Answer with'same_as' if the first place is the same as the second place. Answer with'serves' if the first place provides a service to the second place in terms of human mobility, assistance, etc. Answer with 'unknown' if the two places show none of these relations.\\n    Place 1: Swanston Street Medical Centre healthcare nan -37.8136002 144.966178\\n    Place 2: State Library of Victoria library 328 Swanston Street 3000 -37.8097018 144.965488\\n    Answer:  # same\",\n \"Two place descriptions are provided. Answer with'same_as' if the first place is the same as the second place. Answer with'serves' if the first place provides a service to the second place in terms of human mobility, assistance, etc. Answer with 'unknown' if the two places show none of these relations.\\n    Place 1: Coles supermarket 3134 -37.8117934 145.2299716\\n    Place 2: Coles supermarket nan -37.81197319592484 145.2297027341451\\n    Answer:  same_as\",\n \"Two place descriptions are provided. Answer with'same_as' if the first place is the same as the second place. Answer with'serves' if the first place provides a service to the second place in terms of human mobility, assistance, etc. Answer with 'unknown' if the two places show none of these relations.\\n    Place 1: Escape Travel travel_agency nan -37.8135731 144.9603188\\n    Place 2: Owen Dixon Chambers West office 525 Lonsdale Street 3000 -37.8142242 144.9566218\\n    Answer:  unknown\",\n \"Two place descriptions are provided. Answer with'same_as' if the first place is the same as the second place. Answer with'serves' if the first place provides a service to the second place in terms of human mobility, assistance, etc. Answer with 'unknown' if the two places show none of these relations.\\n    Place 1: TGI Friday's restaurant nan -37.8154670632031 145.2246509971793\\n    Place 2: Eastland mall 175 Maroondah Highway 3134 -37.813042 145.2291281\\n    Answer:  # Your\",\n \"Two place descriptions are provided. Answer with'same_as' if the first place is the same as the second place. Answer with'serves' if the first place provides a service to the second place in terms of human mobility, assistance, etc. Answer with 'unknown' if the two places show none of these relations.\\n    Place 1: Goodlife leisure nan -37.7007264 144.7745536\\n    Place 2: Watergardens Town Centre mall 399 Melton Highway 3038 -37.7006402 144.775359\\n    Answer:  serves\",\n \"Two place descriptions are provided. Answer with'same_as' if the first place is the same as the second place. Answer with'serves' if the first place provides a service to the second place in terms of human mobility, assistance, etc. Answer with 'unknown' if the two places show none of these relations.\\n    Place 1: Alka Polish Deli deli nan -37.8372316 144.9514154\\n    Place 2: South Melbourne Market marketplace 322-326 Coventry Street 3205 -37.8323031 144.9565361\\n    Answer:  # Your\",\n \"Two place descriptions are provided. Answer with'same_as' if the first place is the same as the second place. Answer with'serves' if the first place provides a service to the second place in terms of human mobility, assistance, etc. Answer with 'unknown' if the two places show none of these relations.\\n    Place 1: Rockit Barber Shop hairdresser nan -37.8184645 144.9555577\\n    Place 2: Owen Dixon Chambers West office 525 Lonsdale Street 3000 -37.8142242 144.9566218\\n    Answer:  unknown\",\n \"Two place descriptions are provided. Answer with'same_as' if the first place is the same as the second place. Answer with'serves' if the first place provides a service to the second place in terms of human mobility, assistance, etc. Answer with 'unknown' if the two places show none of these relations.\\n    Place 1: Readings books State Library of Victoria Swanson Street -37.8097181 144.9645886\\n    Place 2: Readings books nan -37.80977583865636 144.96463846775686\\n    Answer: ?\",\n \"Two place descriptions are provided. Answer with'same_as' if the first place is the same as the second place. Answer with'serves' if the first place provides a service to the second place in terms of human mobility, assistance, etc. Answer with 'unknown' if the two places show none of these relations.\\n    Place 1: Sports Us sports nan -37.950476 145.1512941\\n    Place 2: Springvale Shopping Centre mall 46-58 Buckingham Avenue -37.950335 145.1506972\\n    Answer:  unknown\",\n \"Two place descriptions are provided. Answer with'same_as' if the first place is the same as the second place. Answer with'serves' if the first place provides a service to the second place in terms of human mobility, assistance, etc. Answer with 'unknown' if the two places show none of these relations.\\n    Place 1: Aware Health massage 1/22 Mason Street 3015 -37.8421376 144.8813677\\n    Place 2: Newport Community Hub community_centre 13 Mason Street 3015 -37.8429738 144.8816964\\n    Answer: ?\",\n \"Two place descriptions are provided. Answer with'same_as' if the first place is the same as the second place. Answer with'serves' if the first place provides a service to the second place in terms of human mobility, assistance, etc. Answer with 'unknown' if the two places show none of these relations.\\n    Place 1: Civic Kindergarten Middle Park kindergarten nan -37.8498189 144.9619725\\n    Place 2: Civic Middle Park kindergarten nan -37.8441694 144.9651114\\n    Answer:  same_as\",\n \"Two place descriptions are provided. Answer with'same_as' if the first place is the same as the second place. Answer with'serves' if the first place provides a service to the second place in terms of human mobility, assistance, etc. Answer with 'unknown' if the two places show none of these relations.\\n    Place 1: Laird Hotel pub 149 Gipps Street 3067 -37.8052092 144.9930209\\n    Place 2: The Hive mall 313-325 Victoria Street 3067 -37.8097238 144.9955377\\n    Answer: ?\",\n \"Two place descriptions are provided. Answer with'same_as' if the first place is the same as the second place. Answer with'serves' if the first place provides a service to the second place in terms of human mobility, assistance, etc. Answer with 'unknown' if the two places show none of these relations.\\n    Place 1: Helly Hansen outdoor nan -37.8863402 145.0824833\\n    Place 2: Chadstone Shopping Centre mall 1341 Dandenong Road 3148 -37.8861084 145.082353\\n    Answer:  unknown\",\n \"Two place descriptions are provided. Answer with'same_as' if the first place is the same as the second place. Answer with'serves' if the first place provides a service to the second place in terms of human mobility, assistance, etc. Answer with 'unknown' if the two places show none of these relations.\\n    Place 1: Monash (Bay F) bus_stop nan -37.9140752 145.1317909\\n    Place 2: Monash University, Clayton Campus university 151-211 Wellington Road -37.9106345 145.1364732\\n    Answer:  serves\",\n \"Two place descriptions are provided. Answer with'same_as' if the first place is the same as the second place. Answer with'serves' if the first place provides a service to the second place in terms of human mobility, assistance, etc. Answer with 'unknown' if the two places show none of these relations.\\n    Place 1: JB Hi-Fi electronics nan -37.701648 144.7756436\\n    Place 2: Watergardens Town Centre mall 399 Melton Highway 3038 -37.7006402 144.775359\\n    Answer:  serves\",\n \"Two place descriptions are provided. Answer with'same_as' if the first place is the same as the second place. Answer with'serves' if the first place provides a service to the second place in terms of human mobility, assistance, etc. Answer with 'unknown' if the two places show none of these relations.\\n    Place 1: Sacred Heart Mission Op Shop charity 110 Commercial Road 3181 -37.8464275 144.9898566\\n    Place 2: Alfred Hospital hospital 55 Commercial Road -37.8461529 144.9825892\\n    Answer:  serves\",\n \"Two place descriptions are provided. Answer with'same_as' if the first place is the same as the second place. Answer with'serves' if the first place provides a service to the second place in terms of human mobility, assistance, etc. Answer with 'unknown' if the two places show none of these relations.\\n    Place 1: Public Toilets toilets nan -37.8355005 145.1654141\\n    Place 2: Forest Hill Chase Shopping Centre mall 270 Canterbury Road -37.8355701 145.1648481\\n    Answer:  unknown\",\n \"Two place descriptions are provided. Answer with'same_as' if the first place is the same as the second place. Answer with'serves' if the first place provides a service to the second place in terms of human mobility, assistance, etc. Answer with 'unknown' if the two places show none of these relations.\\n    Place 1: Highpoint Mall attraction nan -37.77344678239674 144.88880902040012\\n    Place 2: Mall attraction nan -37.7733286 144.8890665\\n    Answer:  same_as\",\n \"Two place descriptions are provided. Answer with'same_as' if the first place is the same as the second place. Answer with'serves' if the first place provides a service to the second place in terms of human mobility, assistance, etc. Answer with 'unknown' if the two places show none of these relations.\\n    Place 1: Hardrock leisure 501 Swanston Street 3000 -37.807364 144.9624993\\n    Place 2: RMIT University university 124 La Trobe Street 3000 -37.8082251 144.9645927\\n    Answer: ?\",\n \"Two place descriptions are provided. Answer with'same_as' if the first place is the same as the second place. Answer with'serves' if the first place provides a service to the second place in terms of human mobility, assistance, etc. Answer with 'unknown' if the two places show none of these relations.\\n    Place 1: Henry's Place cafe nan -37.6521127 145.0146107\\n    Place 2: The Northern Hospital hospital 185 Cooper Street 3076 -37.6531629 145.0139408\\n    Answer:  # Your\",\n \"Two place descriptions are provided. Answer with'same_as' if the first place is the same as the second place. Answer with'serves' if the first place provides a service to the second place in terms of human mobility, assistance, etc. Answer with 'unknown' if the two places show none of these relations.\\n    Place 1: Nutshoppe spices nan -37.8328895 144.956494\\n    Place 2: South Melbourne Market marketplace 322-326 Coventry Street 3205 -37.8323031 144.9565361\\n    Answer:  serves\",\n \"Two place descriptions are provided. Answer with'same_as' if the first place is the same as the second place. Answer with'serves' if the first place provides a service to the second place in terms of human mobility, assistance, etc. Answer with 'unknown' if the two places show none of these relations.\\n    Place 1: Block 7 Dumplings restaurant 171-175 Maroondah Highway 3134 -37.8128048 145.2306027\\n    Place 2: Eastland mall 175 Maroondah Highway 3134 -37.813042 145.2291281\\n    Answer: ?\",\n \"Two place descriptions are provided. Answer with'same_as' if the first place is the same as the second place. Answer with'serves' if the first place provides a service to the second place in terms of human mobility, assistance, etc. Answer with 'unknown' if the two places show none of these relations.\\n    Place 1: Mycar car_repair Maroondah Highway 3116 -37.7592138 145.311508\\n    Place 2: Mycar car_repair nan -37.75870297220106 145.31173891793594\\n    Answer:  same_as\",\n \"Two place descriptions are provided. Answer with'same_as' if the first place is the same as the second place. Answer with'serves' if the first place provides a service to the second place in terms of human mobility, assistance, etc. Answer with 'unknown' if the two places show none of these relations.\\n    Place 1: Oak Lawn leisure nan -37.8295943 145.0223708\\n    Place 2: The University of Melbourne Burnley Campus university 500 Yarra Boulevard 3121 -37.828804 145.0228204\\n    Answer:  # Your\",\n \"Two place descriptions are provided. Answer with'same_as' if the first place is the same as the second place. Answer with'serves' if the first place provides a service to the second place in terms of human mobility, assistance, etc. Answer with 'unknown' if the two places show none of these relations.\\n    Place 1: Chick-In restaurant 620 Collins Street 3000 -37.8185913 144.95451\\n    Place 2: Epic Centre office 620 Bourke Street 3000 -37.8162335 144.955325\\n    Answer: ????\",\n \"Two place descriptions are provided. Answer with'same_as' if the first place is the same as the second place. Answer with'serves' if the first place provides a service to the second place in terms of human mobility, assistance, etc. Answer with 'unknown' if the two places show none of these relations.\\n    Place 1: Espresso Riviera cafe nan -37.8479111 144.9786859\\n    Place 2: Mantra St Kilda Road hotel 568 St Kilda Road 3004 -37.8471567 144.9786759\\n    Answer:  serves\",\n \"Two place descriptions are provided. Answer with'same_as' if the first place is the same as the second place. Answer with'serves' if the first place provides a service to the second place in terms of human mobility, assistance, etc. Answer with 'unknown' if the two places show none of these relations.\\n    Place 1: Donut King fast_food nan -38.1418384 145.124629\\n    Place 2: Bayside Shopping Centre mall 28 Beach Street -38.1417972 145.1239964\\n    Answer:  unknown\",\n \"Two place descriptions are provided. Answer with'same_as' if the first place is the same as the second place. Answer with'serves' if the first place provides a service to the second place in terms of human mobility, assistance, etc. Answer with 'unknown' if the two places show none of these relations.\\n    Place 1: Father's Office pub nan -37.8105398 144.9645958\\n    Place 2: RMIT University university 124 La Trobe Street 3000 -37.8082251 144.9645927\\n    Answer:  # Your\",\n \"Two place descriptions are provided. Answer with'same_as' if the first place is the same as the second place. Answer with'serves' if the first place provides a service to the second place in terms of human mobility, assistance, etc. Answer with 'unknown' if the two places show none of these relations.\\n    Place 1: Monash University (Bay C) bus_stop nan -37.9137977 145.1320338\\n    Place 2: Monash University, Clayton Campus university 151-211 Wellington Road -37.9106345 145.1364732\\n    Answer:  same_as\",\n \"Two place descriptions are provided. Answer with'same_as' if the first place is the same as the second place. Answer with'serves' if the first place provides a service to the second place in terms of human mobility, assistance, etc. Answer with 'unknown' if the two places show none of these relations.\\n    Place 1: Pieno Di Grazia fast_food nan -37.8327358 144.95539\\n    Place 2: South Melbourne Market marketplace 322-326 Coventry Street 3205 -37.8323031 144.9565361\\n    Answer:  unknown\",\n \"Two place descriptions are provided. Answer with'same_as' if the first place is the same as the second place. Answer with'serves' if the first place provides a service to the second place in terms of human mobility, assistance, etc. Answer with 'unknown' if the two places show none of these relations.\\n    Place 1: Myhealth Medical Centre clinic nan -37.8141978 145.2293175\\n    Place 2: Eastland mall 175 Maroondah Highway 3134 -37.813042 145.2291281\\n    Answer:  unknown\",\n \"Two place descriptions are provided. Answer with'same_as' if the first place is the same as the second place. Answer with'serves' if the first place provides a service to the second place in terms of human mobility, assistance, etc. Answer with 'unknown' if the two places show none of these relations.\\n    Place 1: Wagyu Fun restaurant nan -37.8138298 144.9667843\\n    Place 2: Ian Potter Centre: NGV Australia museum Federation Square 3000 -37.8175394 144.9699711\\n    Answer:  # Your\",\n \"Two place descriptions are provided. Answer with'same_as' if the first place is the same as the second place. Answer with'serves' if the first place provides a service to the second place in terms of human mobility, assistance, etc. Answer with 'unknown' if the two places show none of these relations.\\n    Place 1: Anchor artwork nan -37.8241577 144.9542604\\n    Place 2: The Great Southern Hotel hotel 44 Spencer Street 3000 -37.8196856 144.9548897\\n    Answer:  # Your\",\n \"Two place descriptions are provided. Answer with'same_as' if the first place is the same as the second place. Answer with'serves' if the first place provides a service to the second place in terms of human mobility, assistance, etc. Answer with 'unknown' if the two places show none of these relations.\\n    Place 1: Proper & Son restaurant nan -37.8327846 144.9561057\\n    Place 2: Rita's Coffee & Nuts deli nan -37.8320738 144.9560002\\n    Answer: ?\",\n \"Two place descriptions are provided. Answer with'same_as' if the first place is the same as the second place. Answer with'serves' if the first place provides a service to the second place in terms of human mobility, assistance, etc. Answer with 'unknown' if the two places show none of these relations.\\n    Place 1: Madame restaurant nan -37.809512 144.970932\\n    Place 2: RMIT University university 3010 -37.8058398 144.9652999\\n    Answer:  serves\",\n \"Two place descriptions are provided. Answer with'same_as' if the first place is the same as the second place. Answer with'serves' if the first place provides a service to the second place in terms of human mobility, assistance, etc. Answer with 'unknown' if the two places show none of these relations.\\n    Place 1: 300 Modern Greek restaurant 399 Melton Highway 190 3038 -37.6990424 144.7786192\\n    Place 2: Watergardens Town Centre mall 399 Melton Highway 3038 -37.7006402 144.775359\\n    Answer:  serves\",\n \"Two place descriptions are provided. Answer with'same_as' if the first place is the same as the second place. Answer with'serves' if the first place provides a service to the second place in terms of human mobility, assistance, etc. Answer with 'unknown' if the two places show none of these relations.\\n    Place 1: Donut King fast_food nan -38.1418114 145.1242043\\n    Place 2: Bayside Shopping Centre mall 28 Beach Street -38.1417972 145.1239964\\n    Answer:  serves\",\n \"Two place descriptions are provided. Answer with'same_as' if the first place is the same as the second place. Answer with'serves' if the first place provides a service to the second place in terms of human mobility, assistance, etc. Answer with 'unknown' if the two places show none of these relations.\\n    Place 1: Slices Family Restaurant restaurant nan -37.734238 144.7417864\\n    Place 2: CS Square Shopping Centre mall 29-35 Lake Street -37.7316731 144.7429396\\n    Answer:  unknown\",\n \"Two place descriptions are provided. Answer with'same_as' if the first place is the same as the second place. Answer with'serves' if the first place provides a service to the second place in terms of human mobility, assistance, etc. Answer with 'unknown' if the two places show none of these relations.\\n    Place 1: Public Toilets toilets nan -37.8351297 145.1650786\\n    Place 2: Forest Hill Chase Shopping Centre mall 270 Canterbury Road -37.8355701 145.1648481\\n    Answer:  unknown\",\n \"Two place descriptions are provided. Answer with'same_as' if the first place is the same as the second place. Answer with'serves' if the first place provides a service to the second place in terms of human mobility, assistance, etc. Answer with 'unknown' if the two places show none of these relations.\\n    Place 1: Lonsdale Street/Queen Street bus_stop nan -37.8133205 144.9597861\\n    Place 2: Owen Dixon Chambers East office 205 William Street 3000 -37.8143576 144.957153\\n    Answer:  unknown\",\n \"Two place descriptions are provided. Answer with'same_as' if the first place is the same as the second place. Answer with'serves' if the first place provides a service to the second place in terms of human mobility, assistance, etc. Answer with 'unknown' if the two places show none of these relations.\\n    Place 1: Mycar car_repair nan -37.75870297220106 145.31173891793594\\n    Place 2: Chirnside Park Shopping Centre mall 239-241 Maroondah Highway 3116 -37.7582999 145.312862\\n    Answer:  unknown\",\n \"Two place descriptions are provided. Answer with'same_as' if the first place is the same as the second place. Answer with'serves' if the first place provides a service to the second place in terms of human mobility, assistance, etc. Answer with 'unknown' if the two places show none of these relations.\\n    Place 1: Bar And Bistro bar nan -37.8068657 144.9612913\\n    Place 2: Ibis Hotel Melbourne hotel 15-21 Therry Street -37.8069455 144.9612899\\n    Answer:  unknown\",\n \"Two place descriptions are provided. Answer with'same_as' if the first place is the same as the second place. Answer with'serves' if the first place provides a service to the second place in terms of human mobility, assistance, etc. Answer with 'unknown' if the two places show none of these relations.\\n    Place 1: Y Axis Immigration & Visas office nan -37.8096282 144.9612621\\n    Place 2: State Library of Victoria library 328 Swanston Street 3000 -37.8097018 144.965488\\n    Answer:  unknown\",\n \"Two place descriptions are provided. Answer with'same_as' if the first place is the same as the second place. Answer with'serves' if the first place provides a service to the second place in terms of human mobility, assistance, etc. Answer with 'unknown' if the two places show none of these relations.\\n    Place 1: Gold Leaf Chinese Restaurant restaurant nan -37.94989404557239 145.1505591172013\\n    Place 2: Springvale Shopping Centre mall 46-58 Buckingham Avenue -37.950335 145.1506972\\n    Answer:  unknown\",\n \"Two place descriptions are provided. Answer with'same_as' if the first place is the same as the second place. Answer with'serves' if the first place provides a service to the second place in terms of human mobility, assistance, etc. Answer with 'unknown' if the two places show none of these relations.\\n    Place 1: Rubiki cafe nan -37.79440805958217 145.23009147873307\\n    Place 2: Ringwood North Shopping Centre mall 204-206 Warrandyte Road 3134 -37.7942813 145.2359728\\n    Answer:  unknown\",\n \"Two place descriptions are provided. Answer with'same_as' if the first place is the same as the second place. Answer with'serves' if the first place provides a service to the second place in terms of human mobility, assistance, etc. Answer with 'unknown' if the two places show none of these relations.\\n    Place 1: Hoyts cinema nan -37.7399401 145.0316975\\n    Place 2: Northland Shopping Centre mall 2-50 Murray Road 3072 -37.73846 145.0299923\\n    Answer: ?\",\n \"Two place descriptions are provided. Answer with'same_as' if the first place is the same as the second place. Answer with'serves' if the first place provides a service to the second place in terms of human mobility, assistance, etc. Answer with 'unknown' if the two places show none of these relations.\\n    Place 1: GJ's Grill restaurant 243 Franklin Street Shop 2 -37.8098639 144.956785\\n    Place 2: RMIT University university 124 La Trobe Street 3000 -37.8082251 144.9645927\\n    Answer:  unknown\",\n \"Two place descriptions are provided. Answer with'same_as' if the first place is the same as the second place. Answer with'serves' if the first place provides a service to the second place in terms of human mobility, assistance, etc. Answer with 'unknown' if the two places show none of these relations.\\n    Place 1: Block 7 Dumplings restaurant nan -37.81374832277117 145.22596670506036\\n    Place 2: Eastland mall 175 Maroondah Highway 3134 -37.813042 145.2291281\\n    Answer:  unknown\",\n \"Two place descriptions are provided. Answer with'same_as' if the first place is the same as the second place. Answer with'serves' if the first place provides a service to the second place in terms of human mobility, assistance, etc. Answer with 'unknown' if the two places show none of these relations.\\n    Place 1: Quamby Rd/Old Warrandyte Rd bus_stop nan -37.7806844 145.237667\\n    Place 2: Parkwood Community Hub community_centre 35-39 Tortice Drive 3134 -37.7836754 145.241736\\n    Answer:  unknown\",\n \"Two place descriptions are provided. Answer with'same_as' if the first place is the same as the second place. Answer with'serves' if the first place provides a service to the second place in terms of human mobility, assistance, etc. Answer with 'unknown' if the two places show none of these relations.\\n    Place 1: Village Cinemas Crown cinema nan -37.82483121817145 144.9564205767281\\n    Place 2: Crown Entertainment Complex casino 8 Whiteman Street 3006 -37.8233312 144.958697\\n    Answer:  serves\",\n \"Two place descriptions are provided. Answer with'same_as' if the first place is the same as the second place. Answer with'serves' if the first place provides a service to the second place in terms of human mobility, assistance, etc. Answer with 'unknown' if the two places show none of these relations.\\n    Place 1: Mr Pilgrim Cafe Cafes nan -37.8876 145.082261\\n    Place 2: Chadstone Shopping Centre mall 1341 Dandenong Road 3148 -37.8861084 145.082353\\n    Answer:  unknown\",\n \"Two place descriptions are provided. Answer with'same_as' if the first place is the same as the second place. Answer with'serves' if the first place provides a service to the second place in terms of human mobility, assistance, etc. Answer with 'unknown' if the two places show none of these relations.\\n    Place 1: John Monash Science School college nan -37.9140244 145.1291121\\n    Place 2: Monash University, Clayton Campus university 151-211 Wellington Road -37.9106345 145.1364732\\n    Answer:  serves\",\n \"Two place descriptions are provided. Answer with'same_as' if the first place is the same as the second place. Answer with'serves' if the first place provides a service to the second place in terms of human mobility, assistance, etc. Answer with 'unknown' if the two places show none of these relations.\\n    Place 1: Sandrock cafe nan -37.794317446007824 144.94910605394367\\n    Place 2: Royal Children's Hospital hospital 50 Flemington Road -37.7934267 144.9499297\\n    Answer:  unknown\",\n \"Two place descriptions are provided. Answer with'same_as' if the first place is the same as the second place. Answer with'serves' if the first place provides a service to the second place in terms of human mobility, assistance, etc. Answer with 'unknown' if the two places show none of these relations.\\n    Place 1: 8Bit restaurant 399 Melton Highway 189 3038 -37.6990563 144.7787259\\n    Place 2: Watergardens Town Centre mall 399 Melton Highway 3038 -37.7006402 144.775359\\n    Answer:  same_as\",\n \"Two place descriptions are provided. Answer with'same_as' if the first place is the same as the second place. Answer with'serves' if the first place provides a service to the second place in terms of human mobility, assistance, etc. Answer with 'unknown' if the two places show none of these relations.\\n    Place 1: Mulgrave Church of Christ place_of_worship nan -37.9281 145.1956998\\n    Place 2: Churches of Christ Theological College university 44-60 Jacksons Road 3170 -37.9278537 145.1955284\\n    Answer:  serves\",\n \"Two place descriptions are provided. Answer with'same_as' if the first place is the same as the second place. Answer with'serves' if the first place provides a service to the second place in terms of human mobility, assistance, etc. Answer with 'unknown' if the two places show none of these relations.\\n    Place 1: Eight Hour Monument historic nan -37.8071581 144.9655854\\n    Place 2: State Library of Victoria library 328 Swanston Street 3000 -37.8097018 144.965488\\n    Answer:  unknown\"]"
     },
     "execution_count": 65,
     "metadata": {},
     "output_type": "execute_result"
    }
   ],
   "source": [
    "preds"
   ],
   "metadata": {
    "collapsed": false,
    "ExecuteTime": {
     "end_time": "2024-12-23T03:45:57.401578800Z",
     "start_time": "2024-12-23T03:45:57.387580900Z"
    }
   },
   "id": "787e4e293405bf8d",
   "execution_count": 65
  },
  {
   "cell_type": "code",
   "outputs": [],
   "source": [
    "lw_preds = [x.split(\" \")[-1].strip() for x in preds] "
   ],
   "metadata": {
    "collapsed": false,
    "ExecuteTime": {
     "end_time": "2024-12-23T03:45:57.405578100Z",
     "start_time": "2024-12-23T03:45:57.399582600Z"
    }
   },
   "id": "c7f989f1fc974d81",
   "execution_count": 66
  },
  {
   "cell_type": "code",
   "outputs": [
    {
     "data": {
      "text/plain": "['serves',\n 'unknown',\n 'serves',\n 'serves',\n 'unknown',\n 'Your',\n 'serves',\n 'serves',\n 'serves',\n 'same_as',\n 'Your',\n 'Your',\n 'unknown',\n 'same_as',\n 'unknown',\n 'same_as',\n 'serves',\n 'serves',\n 'same_as',\n 'serves',\n 'unknown',\n 'Your',\n 'serves',\n 'unknown',\n 'Your',\n 'unknown',\n 'Your',\n 'unknown',\n 'serves',\n 'unknown',\n 'serves',\n 'unknown',\n 'serves',\n 'unknown',\n 'unknown',\n 'unknown',\n 'unknown',\n 'Your',\n 'serves',\n 'same_as',\n 'serves',\n 'unknown',\n 'unknown',\n 'serves',\n 'same',\n 'same_as',\n 'unknown',\n 'Your',\n 'serves',\n 'Your',\n 'unknown',\n '?',\n 'unknown',\n '?',\n 'same_as',\n '?',\n 'unknown',\n 'serves',\n 'serves',\n 'serves',\n 'unknown',\n 'same_as',\n '?',\n 'Your',\n 'serves',\n '?',\n 'same_as',\n 'Your',\n '????',\n 'serves',\n 'unknown',\n 'Your',\n 'same_as',\n 'unknown',\n 'unknown',\n 'Your',\n 'Your',\n '?',\n 'serves',\n 'serves',\n 'serves',\n 'unknown',\n 'unknown',\n 'unknown',\n 'unknown',\n 'unknown',\n 'unknown',\n 'unknown',\n 'unknown',\n '?',\n 'unknown',\n 'unknown',\n 'unknown',\n 'serves',\n 'unknown',\n 'serves',\n 'unknown',\n 'same_as',\n 'serves',\n 'unknown']"
     },
     "execution_count": 67,
     "metadata": {},
     "output_type": "execute_result"
    }
   ],
   "source": [
    "lw_preds"
   ],
   "metadata": {
    "collapsed": false,
    "ExecuteTime": {
     "end_time": "2024-12-23T03:45:57.447119100Z",
     "start_time": "2024-12-23T03:45:57.407587200Z"
    }
   },
   "id": "73a1fcfe165b1a47",
   "execution_count": 67
  },
  {
   "cell_type": "code",
   "outputs": [
    {
     "name": "stdout",
     "output_type": "stream",
     "text": [
      "P: 0.1774  |  R: 0.1692  |  F1: 0.1732\n"
     ]
    },
    {
     "data": {
      "text/plain": "{'precision': 0.1774193548387097,\n 'recall': 0.16923076923076924,\n 'f1': 0.1732283464566929}"
     },
     "execution_count": 70,
     "metadata": {},
     "output_type": "execute_result"
    }
   ],
   "source": [
    "calculate_metrics2(lw_preds,labels)"
   ],
   "metadata": {
    "collapsed": false,
    "ExecuteTime": {
     "end_time": "2024-12-23T03:48:53.573357Z",
     "start_time": "2024-12-23T03:48:53.530819500Z"
    }
   },
   "id": "b8b1a2619ad6e503",
   "execution_count": 70
  },
  {
   "cell_type": "code",
   "outputs": [],
   "source": [],
   "metadata": {
    "collapsed": false
   },
   "id": "d53c4a04e951952b"
  }
 ],
 "metadata": {
  "kernelspec": {
   "display_name": "Python 3",
   "language": "python",
   "name": "python3"
  },
  "language_info": {
   "codemirror_mode": {
    "name": "ipython",
    "version": 2
   },
   "file_extension": ".py",
   "mimetype": "text/x-python",
   "name": "python",
   "nbconvert_exporter": "python",
   "pygments_lexer": "ipython2",
   "version": "2.7.6"
  }
 },
 "nbformat": 4,
 "nbformat_minor": 5
}
